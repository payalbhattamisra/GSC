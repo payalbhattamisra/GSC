{
 "cells": [
  {
   "cell_type": "code",
   "execution_count": 1,
   "id": "cf04cf8a",
   "metadata": {},
   "outputs": [
    {
     "name": "stdout",
     "output_type": "stream",
     "text": [
      "Sriom\n"
     ]
    }
   ],
   "source": [
    "print(\"Sriom\")"
   ]
  },
  {
   "cell_type": "code",
   "execution_count": 3,
   "id": "3772f301",
   "metadata": {},
   "outputs": [],
   "source": [
    "\n"
   ]
  },
  {
   "cell_type": "code",
   "execution_count": 3,
   "id": "046a6d89",
   "metadata": {},
   "outputs": [
    {
     "name": "stdout",
     "output_type": "stream",
     "text": [
      "{'Name': 'Sriom Dash'}\n",
      "{'Name': 'Linkun Dash '}\n"
     ]
    }
   ],
   "source": [
    "import pymongo\n",
    "if __name__ == \"__main__\":\n",
    "    client = pymongo.MongoClient(\"mongodb://localhost:27017/\")\n",
    "    db = client['mydb']\n",
    "    collection = db['collection1']\n",
    "\n",
    "alldoc = collection.find({\"City\": \"Berhampur\"},{'Name':1,'_id':0})\n",
    "for item in alldoc:\n",
    "    print(item)\n"
   ]
  },
  {
   "cell_type": "code",
   "execution_count": null,
   "id": "879cf266",
   "metadata": {},
   "outputs": [],
   "source": [
    " "
   ]
  },
  {
   "cell_type": "code",
   "execution_count": null,
   "id": "1f79de54",
   "metadata": {},
   "outputs": [],
   "source": []
  }
 ],
 "metadata": {
  "kernelspec": {
   "display_name": "Python 3 (ipykernel)",
   "language": "python",
   "name": "python3"
  },
  "language_info": {
   "codemirror_mode": {
    "name": "ipython",
    "version": 3
   },
   "file_extension": ".py",
   "mimetype": "text/x-python",
   "name": "python",
   "nbconvert_exporter": "python",
   "pygments_lexer": "ipython3",
   "version": "3.10.11"
  }
 },
 "nbformat": 4,
 "nbformat_minor": 5
}
